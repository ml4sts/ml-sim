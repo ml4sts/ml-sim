{
 "cells": [
  {
   "cell_type": "markdown",
   "id": "1757727a",
   "metadata": {},
   "source": [
    "# Using Population objects to create biased data"
   ]
  },
  {
   "cell_type": "code",
   "execution_count": 1,
   "id": "97840da2",
   "metadata": {},
   "outputs": [
    {
     "ename": "ModuleNotFoundError",
     "evalue": "No module named 'mlsim.base'",
     "output_type": "error",
     "traceback": [
      "\u001b[0;31m---------------------------------------------------------------------------\u001b[0m",
      "\u001b[0;31mModuleNotFoundError\u001b[0m                       Traceback (most recent call last)",
      "Input \u001b[0;32mIn [1]\u001b[0m, in \u001b[0;36m<cell line: 1>\u001b[0;34m()\u001b[0m\n\u001b[0;32m----> 1\u001b[0m \u001b[38;5;28;01mimport\u001b[39;00m \u001b[38;5;21;01mmlsim\u001b[39;00m\n\u001b[1;32m      2\u001b[0m \u001b[38;5;28;01mimport\u001b[39;00m \u001b[38;5;21;01mpandas\u001b[39;00m \u001b[38;5;28;01mas\u001b[39;00m \u001b[38;5;21;01mpd\u001b[39;00m\n\u001b[1;32m      3\u001b[0m \u001b[38;5;28;01mimport\u001b[39;00m \u001b[38;5;21;01mnumpy\u001b[39;00m \u001b[38;5;28;01mas\u001b[39;00m \u001b[38;5;21;01mnp\u001b[39;00m\n",
      "File \u001b[0;32m/opt/hostedtoolcache/Python/3.8.12/x64/lib/python3.8/site-packages/mlsim/__init__.py:2\u001b[0m, in \u001b[0;36m<module>\u001b[0;34m\u001b[0m\n\u001b[0;32m----> 2\u001b[0m \u001b[38;5;28;01mfrom\u001b[39;00m \u001b[38;5;21;01m.\u001b[39;00m \u001b[38;5;28;01mimport\u001b[39;00m anomaly\n\u001b[1;32m      4\u001b[0m \u001b[38;5;28;01mfrom\u001b[39;00m \u001b[38;5;21;01m.\u001b[39;00m \u001b[38;5;28;01mimport\u001b[39;00m base\n\u001b[1;32m      6\u001b[0m \u001b[38;5;28;01mfrom\u001b[39;00m \u001b[38;5;21;01m.\u001b[39;00m \u001b[38;5;28;01mimport\u001b[39;00m bias\n",
      "File \u001b[0;32m/opt/hostedtoolcache/Python/3.8.12/x64/lib/python3.8/site-packages/mlsim/anomaly/__init__.py:1\u001b[0m, in \u001b[0;36m<module>\u001b[0;34m\u001b[0m\n\u001b[0;32m----> 1\u001b[0m \u001b[38;5;28;01mfrom\u001b[39;00m \u001b[38;5;21;01m.\u001b[39;00m\u001b[38;5;21;01msimpsons_paradox\u001b[39;00m \u001b[38;5;28;01mimport\u001b[39;00m geometric_2d_gmm_sp\n\u001b[1;32m      2\u001b[0m \u001b[38;5;28;01mfrom\u001b[39;00m \u001b[38;5;21;01m.\u001b[39;00m\u001b[38;5;21;01msimpsons_paradox\u001b[39;00m \u001b[38;5;28;01mimport\u001b[39;00m geometric_indep_views_gmm_sp\n\u001b[1;32m      3\u001b[0m \u001b[38;5;28;01mfrom\u001b[39;00m \u001b[38;5;21;01m.\u001b[39;00m\u001b[38;5;21;01mplot_utils\u001b[39;00m \u001b[38;5;28;01mimport\u001b[39;00m sp_plot, plot_clustermat\n",
      "File \u001b[0;32m/opt/hostedtoolcache/Python/3.8.12/x64/lib/python3.8/site-packages/mlsim/anomaly/simpsons_paradox.py:5\u001b[0m, in \u001b[0;36m<module>\u001b[0;34m\u001b[0m\n\u001b[1;32m      2\u001b[0m \u001b[38;5;28;01mimport\u001b[39;00m \u001b[38;5;21;01mpandas\u001b[39;00m \u001b[38;5;28;01mas\u001b[39;00m \u001b[38;5;21;01mpd\u001b[39;00m\n\u001b[1;32m      3\u001b[0m \u001b[38;5;28;01mimport\u001b[39;00m \u001b[38;5;21;01mstring\u001b[39;00m\n\u001b[0;32m----> 5\u001b[0m \u001b[38;5;28;01mfrom\u001b[39;00m \u001b[38;5;21;01m.\u001b[39;00m\u001b[38;5;21;01m.\u001b[39;00m\u001b[38;5;21;01mbase\u001b[39;00m\u001b[38;5;21;01m.\u001b[39;00m\u001b[38;5;21;01mbasic_gens\u001b[39;00m \u001b[38;5;28;01mimport\u001b[39;00m means_with_spread\n\u001b[1;32m      7\u001b[0m \u001b[38;5;28;01mdef\u001b[39;00m \u001b[38;5;21mgeometric_2d_gmm_sp\u001b[39m(r_clusters,cluster_size,cluster_spread,p_sp_clusters,\n\u001b[1;32m      8\u001b[0m                 domain_range,k,N,p_clusters\u001b[38;5;241m=\u001b[39m\u001b[38;5;28;01mNone\u001b[39;00m):\n\u001b[1;32m      9\u001b[0m     \u001b[38;5;124;03m\"\"\"\u001b[39;00m\n\u001b[1;32m     10\u001b[0m \u001b[38;5;124;03m    Sample from a gaussian mixture model with Simpson's Paradox and spread means\u001b[39;00m\n\u001b[1;32m     11\u001b[0m \u001b[38;5;124;03m    return data in a data fram\u001b[39;00m\n\u001b[0;32m   (...)\u001b[0m\n\u001b[1;32m     29\u001b[0m \u001b[38;5;124;03m        number of points\u001b[39;00m\n\u001b[1;32m     30\u001b[0m \u001b[38;5;124;03m    \"\"\"\u001b[39;00m\n",
      "\u001b[0;31mModuleNotFoundError\u001b[0m: No module named 'mlsim.base'"
     ]
    }
   ],
   "source": [
    "import mlsim\n",
    "import pandas as pd\n",
    "import numpy as np\n",
    "import seaborn as sns\n",
    "from collections import namedtuple"
   ]
  },
  {
   "cell_type": "markdown",
   "id": "70405639",
   "metadata": {},
   "source": [
    "Create an all default population"
   ]
  },
  {
   "cell_type": "code",
   "execution_count": null,
   "id": "a8c18d1c",
   "metadata": {},
   "outputs": [],
   "source": [
    "pop = mlsim.bias.Population()"
   ]
  },
  {
   "cell_type": "markdown",
   "id": "b782dd45",
   "metadata": {},
   "source": [
    "To view the details on this population, we can use the `get_parameter_description` method."
   ]
  },
  {
   "cell_type": "code",
   "execution_count": null,
   "id": "ea70b55e",
   "metadata": {},
   "outputs": [],
   "source": [
    "print(pop.get_parameter_description())"
   ]
  },
  {
   "cell_type": "markdown",
   "id": "23069cab",
   "metadata": {},
   "source": [
    "The instantiation just assigns values to these parameters. In order to get data, we use the `sample` method."
   ]
  },
  {
   "cell_type": "code",
   "execution_count": null,
   "id": "2c1fe389",
   "metadata": {},
   "outputs": [],
   "source": [
    "help(pop.sample)"
   ]
  },
  {
   "cell_type": "code",
   "execution_count": null,
   "id": "61e70f74",
   "metadata": {},
   "outputs": [],
   "source": [
    "pop_df1 = pop.sample(100)\n",
    "pop_df1.head()"
   ]
  },
  {
   "cell_type": "markdown",
   "id": "170b2ff8",
   "metadata": {},
   "source": [
    "## Changing the type of bias\n",
    "\n",
    "Now demo some with various biases to create examples"
   ]
  },
  {
   "cell_type": "code",
   "execution_count": null,
   "id": "35c05c28",
   "metadata": {},
   "outputs": [],
   "source": [
    "# create a correlated demographic sampler\n",
    "label_bias_dem = mlsim.bias.DemographicCorrelated(rho_a=.2,rho_z=[.25,.15])\n",
    "\n",
    "# instantiate a population with that\n",
    "pop_label_bias = mlsim.bias.PopulationInstantiated(demographic_sampler=label_bias_dem)"
   ]
  },
  {
   "cell_type": "code",
   "execution_count": null,
   "id": "285aecb7",
   "metadata": {},
   "outputs": [],
   "source": [
    "pop_label_bias_df1 = pop_label_bias.sample(100)\n",
    "pop_label_bias_df1.head()"
   ]
  },
  {
   "cell_type": "markdown",
   "id": "b0480e70",
   "metadata": {},
   "source": [
    "New we'll create a feature bias where the classes are separable for one group and not for the other."
   ]
  },
  {
   "cell_type": "code",
   "execution_count": null,
   "id": "f2b158d1",
   "metadata": {},
   "outputs": [],
   "source": [
    "feature_sample_dist = lambda mu,cov :np.random.multivariate_normal(mu,cov)\n",
    "per_group_means = [[[1,2,3,4,3,3],[4,6,8,8,10,6]],[[3,2,3,4,4,3],[1,3,4,4,5,3]]]\n",
    "D =6\n",
    "shared_cov = [np.eye(D)*.75,.95*np.eye(D)]\n",
    "feature_bias = mlsim.bias.FeaturePerGroupSharedParamWithinGroup(\n",
    "            feature_sample_dist,per_group_means,shared_cov)\n",
    "pop_feature_bias = mlsim.bias.PopulationInstantiated(feature_sampler=feature_bias)"
   ]
  },
  {
   "cell_type": "code",
   "execution_count": null,
   "id": "61d9c66b",
   "metadata": {},
   "outputs": [],
   "source": [
    "pop_feature_bias_df1 = pop_feature_bias.sample(100)\n",
    "pop_feature_bias_df1.head()"
   ]
  },
  {
   "cell_type": "code",
   "execution_count": null,
   "id": "a614e38f",
   "metadata": {},
   "outputs": [],
   "source": [
    "var_list = ['x'+ str(i) for i in range(D)]\n",
    "g = sns.pairplot(pop_feature_bias_df1, vars= var_list, hue = 'z')"
   ]
  },
  {
   "cell_type": "code",
   "execution_count": null,
   "id": "88a1a319",
   "metadata": {},
   "outputs": [],
   "source": [
    "[sns.pairplot(dffbai, vars= var_list, hue = 'z') for ai,dffbai in pop_feature_bias_df1.groupby('a')]"
   ]
  },
  {
   "cell_type": "code",
   "execution_count": null,
   "id": "bc1f4aa1",
   "metadata": {},
   "outputs": [],
   "source": []
  },
  {
   "cell_type": "code",
   "execution_count": null,
   "id": "9f21b770",
   "metadata": {},
   "outputs": [],
   "source": []
  }
 ],
 "metadata": {
  "jupytext": {
   "text_representation": {
    "extension": ".md",
    "format_name": "myst",
    "format_version": 0.13,
    "jupytext_version": "1.10.3"
   }
  },
  "kernelspec": {
   "display_name": "Python 3",
   "language": "python",
   "name": "python3"
  },
  "language_info": {
   "codemirror_mode": {
    "name": "ipython",
    "version": 3
   },
   "file_extension": ".py",
   "mimetype": "text/x-python",
   "name": "python",
   "nbconvert_exporter": "python",
   "pygments_lexer": "ipython3",
   "version": "3.8.12"
  },
  "source_map": [
   12,
   16,
   22,
   26,
   28,
   32,
   34,
   38,
   42,
   45,
   51,
   59,
   62,
   66,
   76,
   81,
   86,
   90,
   94
  ]
 },
 "nbformat": 4,
 "nbformat_minor": 5
}