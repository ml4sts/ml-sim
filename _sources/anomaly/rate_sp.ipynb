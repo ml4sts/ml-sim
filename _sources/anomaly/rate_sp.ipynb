{
 "cells": [
  {
   "cell_type": "markdown",
   "id": "5492d4d2",
   "metadata": {},
   "source": [
    "# Rate-Based SP\n",
    "\n",
    "classic example: berkeley admissions"
   ]
  },
  {
   "cell_type": "code",
   "execution_count": 1,
   "id": "1297f3d0",
   "metadata": {},
   "outputs": [],
   "source": [
    "#imports\n",
    "import numpy as np\n",
    "import pandas as pd\n",
    "import seaborn as sns\n",
    "import scipy.stats as stats\n",
    "import matplotlib.pyplot as plt\n",
    "\n",
    "\n",
    "import mlsim \n",
    "from mlsim.anomaly import sp_plot"
   ]
  },
  {
   "cell_type": "code",
   "execution_count": null,
   "id": "a5ea8ee7",
   "metadata": {},
   "outputs": [],
   "source": []
  }
 ],
 "metadata": {
  "jupytext": {
   "text_representation": {
    "extension": ".md",
    "format_name": "myst",
    "format_version": 0.13,
    "jupytext_version": "1.10.3"
   }
  },
  "kernelspec": {
   "display_name": "Python 3",
   "language": "python",
   "name": "python3"
  },
  "language_info": {
   "codemirror_mode": {
    "name": "ipython",
    "version": 3
   },
   "file_extension": ".py",
   "mimetype": "text/x-python",
   "name": "python",
   "nbconvert_exporter": "python",
   "pygments_lexer": "ipython3",
   "version": "3.8.14"
  },
  "source_map": [
   12,
   18,
   32
  ]
 },
 "nbformat": 4,
 "nbformat_minor": 5
}