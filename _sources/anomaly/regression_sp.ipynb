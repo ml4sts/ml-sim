{
 "cells": [
  {
   "cell_type": "markdown",
   "id": "89b45748",
   "metadata": {},
   "source": [
    "# Regression -Based Simpson's Paradox"
   ]
  },
  {
   "cell_type": "code",
   "execution_count": 1,
   "id": "dca0ba49",
   "metadata": {},
   "outputs": [],
   "source": [
    "#imports\n",
    "import numpy as np\n",
    "import pandas as pd\n",
    "import seaborn as sns\n",
    "import scipy.stats as stats\n",
    "import matplotlib.pyplot as plt\n",
    "\n",
    "\n",
    "import mlsim \n",
    "from mlsim.anomaly import sp_plot"
   ]
  },
  {
   "cell_type": "markdown",
   "id": "00ab272f",
   "metadata": {},
   "source": [
    "The basic version of SP in the regression form is the clustering model based SP- we use a gaussian mixture model and control parameters of the shape"
   ]
  },
  {
   "cell_type": "code",
   "execution_count": 2,
   "id": "0b0f7dd8",
   "metadata": {},
   "outputs": [],
   "source": [
    "# setup\n",
    "r_clusters = -.6  # correlation coefficient of clusters\n",
    "cluster_spread = .8 # pearson correlation of means\n",
    "p_sp_clusters = .5 # portion of clusters with SP \n",
    "k = 5 # number of clusters\n",
    "cluster_size = [2,3]\n",
    "domain_range = [0, 20, 0, 20]\n",
    "N = 200 # number of points\n",
    "p_clusters = [1.0/k]*k"
   ]
  },
  {
   "cell_type": "markdown",
   "id": "12c7c864",
   "metadata": {},
   "source": [
    "We choose the portion of the clusters to have SP and then can draw samples"
   ]
  },
  {
   "cell_type": "code",
   "execution_count": 3,
   "id": "a5583d3b",
   "metadata": {},
   "outputs": [
    {
     "name": "stderr",
     "output_type": "stream",
     "text": [
      "Pass the following variables as keyword args: x, y. From version 0.12, the only valid positional argument will be `data`, and passing other arguments without an explicit keyword will result in an error or misinterpretation.\n",
      "Pass the following variables as keyword args: x, y. From version 0.12, the only valid positional argument will be `data`, and passing other arguments without an explicit keyword will result in an error or misinterpretation.\n"
     ]
    },
    {
     "data": {
      "image/png": "[encoded data removed]",
      "text/plain": [
       "<Figure size 258.375x216 with 1 Axes>"
      ]
     },
     "metadata": {
      "filenames": {
       "image/png": "/home/runner/work/ml-sim/ml-sim/docs/_build/jupyter_execute/anomaly/regression_sp_5_1.png"
      },
      "needs_background": "light"
     },
     "output_type": "display_data"
    }
   ],
   "source": [
    "p_sp_clusters = .9\n",
    "sp_df2 = mlsim.anomaly.geometric_2d_gmm_sp(r_clusters,cluster_size,cluster_spread,\n",
    "                                    p_sp_clusters, domain_range,k,N,p_clusters)\n",
    "sp_plot(sp_df2,'x1','x2','color')"
   ]
  },
  {
   "cell_type": "markdown",
   "id": "e3e3b047",
   "metadata": {},
   "source": [
    "We can change the parameters and see variation"
   ]
  },
  {
   "cell_type": "code",
   "execution_count": 4,
   "id": "a7b92c73",
   "metadata": {},
   "outputs": [
    {
     "name": "stderr",
     "output_type": "stream",
     "text": [
      "Pass the following variables as keyword args: x, y. From version 0.12, the only valid positional argument will be `data`, and passing other arguments without an explicit keyword will result in an error or misinterpretation.\n",
      "Pass the following variables as keyword args: x, y. From version 0.12, the only valid positional argument will be `data`, and passing other arguments without an explicit keyword will result in an error or misinterpretation.\n"
     ]
    },
    {
     "data": {
      "image/png": "[encoded data removed]",
      "text/plain": [
       "<Figure size 258.375x216 with 1 Axes>"
      ]
     },
     "metadata": {
      "filenames": {
       "image/png": "/home/runner/work/ml-sim/ml-sim/docs/_build/jupyter_execute/anomaly/regression_sp_7_1.png"
      },
      "needs_background": "light"
     },
     "output_type": "display_data"
    }
   ],
   "source": [
    "# setup\n",
    "r_clusters = -.4  # correlation coefficient of clusters\n",
    "cluster_spread = .8 # pearson correlation of means\n",
    "p_sp_clusters = .6 # portion of clusters with SP \n",
    "k = 5 # number of clusters\n",
    "cluster_size = [4,4]\n",
    "domain_range = [0, 20, 0, 20]\n",
    "N = 200 # number of points\n",
    "p_clusters = [.5, .2, .1, .1, .1]\n",
    "\n",
    "sp_df3 = mlsim.anomaly.geometric_2d_gmm_sp(r_clusters,cluster_size,cluster_spread,\n",
    "                                    p_sp_clusters, domain_range,k,N,p_clusters)\n",
    "sp_plot(sp_df3,'x1','x2','color')"
   ]
  },
  {
   "cell_type": "markdown",
   "id": "adda7dac",
   "metadata": {},
   "source": [
    "## Multiple Views\n",
    "\n",
    "The first extension is to add multiple independent views, we have a wrapper function for that"
   ]
  },
  {
   "cell_type": "code",
   "execution_count": 5,
   "id": "97f02565",
   "metadata": {},
   "outputs": [
    {
     "name": "stderr",
     "output_type": "stream",
     "text": [
      "Pass the following variables as keyword args: x, y. From version 0.12, the only valid positional argument will be `data`, and passing other arguments without an explicit keyword will result in an error or misinterpretation.\n",
      "Pass the following variables as keyword args: x, y. From version 0.12, the only valid positional argument will be `data`, and passing other arguments without an explicit keyword will result in an error or misinterpretation.\n",
      "Pass the following variables as keyword args: x, y. From version 0.12, the only valid positional argument will be `data`, and passing other arguments without an explicit keyword will result in an error or misinterpretation.\n"
     ]
    },
    {
     "name": "stderr",
     "output_type": "stream",
     "text": [
      "Pass the following variables as keyword args: x, y. From version 0.12, the only valid positional argument will be `data`, and passing other arguments without an explicit keyword will result in an error or misinterpretation.\n"
     ]
    },
    {
     "data": {
      "text/html": [
       "<div>\n",
       "<style scoped>\n",
       "    .dataframe tbody tr th:only-of-type {\n",
       "        vertical-align: middle;\n",
       "    }\n",
       "\n",
       "    .dataframe tbody tr th {\n",
       "        vertical-align: top;\n",
       "    }\n",
       "\n",
       "    .dataframe thead th {\n",
       "        text-align: right;\n",
       "    }\n",
       "</style>\n",
       "<table border=\"1\" class=\"dataframe\">\n",
       "  <thead>\n",
       "    <tr style=\"text-align: right;\">\n",
       "      <th></th>\n",
       "      <th>x1</th>\n",
       "      <th>x2</th>\n",
       "      <th>x3</th>\n",
       "      <th>x4</th>\n",
       "      <th>A</th>\n",
       "      <th>B</th>\n",
       "    </tr>\n",
       "  </thead>\n",
       "  <tbody>\n",
       "    <tr>\n",
       "      <th>0</th>\n",
       "      <td>15.051139</td>\n",
       "      <td>14.788095</td>\n",
       "      <td>10.661439</td>\n",
       "      <td>13.365457</td>\n",
       "      <td>A4</td>\n",
       "      <td>B4</td>\n",
       "    </tr>\n",
       "    <tr>\n",
       "      <th>1</th>\n",
       "      <td>11.675012</td>\n",
       "      <td>9.037925</td>\n",
       "      <td>11.461983</td>\n",
       "      <td>7.826605</td>\n",
       "      <td>A0</td>\n",
       "      <td>B0</td>\n",
       "    </tr>\n",
       "    <tr>\n",
       "      <th>2</th>\n",
       "      <td>15.491469</td>\n",
       "      <td>12.886978</td>\n",
       "      <td>11.568019</td>\n",
       "      <td>7.143692</td>\n",
       "      <td>A1</td>\n",
       "      <td>B0</td>\n",
       "    </tr>\n",
       "    <tr>\n",
       "      <th>3</th>\n",
       "      <td>6.314472</td>\n",
       "      <td>4.013621</td>\n",
       "      <td>11.028667</td>\n",
       "      <td>7.741792</td>\n",
       "      <td>A3</td>\n",
       "      <td>B0</td>\n",
       "    </tr>\n",
       "    <tr>\n",
       "      <th>4</th>\n",
       "      <td>8.098202</td>\n",
       "      <td>4.603442</td>\n",
       "      <td>11.766120</td>\n",
       "      <td>7.422479</td>\n",
       "      <td>A3</td>\n",
       "      <td>B0</td>\n",
       "    </tr>\n",
       "  </tbody>\n",
       "</table>\n",
       "</div>"
      ],
      "text/plain": [
       "          x1         x2         x3         x4   A   B\n",
       "0  15.051139  14.788095  10.661439  13.365457  A4  B4\n",
       "1  11.675012   9.037925  11.461983   7.826605  A0  B0\n",
       "2  15.491469  12.886978  11.568019   7.143692  A1  B0\n",
       "3   6.314472   4.013621  11.028667   7.741792  A3  B0\n",
       "4   8.098202   4.603442  11.766120   7.422479  A3  B0"
      ]
     },
     "execution_count": 5,
     "metadata": {},
     "output_type": "execute_result"
    },
    {
     "data": {
      "image/png": "[encoded data removed]",
      "text/plain": [
       "<Figure size 265.25x216 with 1 Axes>"
      ]
     },
     "metadata": {
      "filenames": {
       "image/png": "/home/runner/work/ml-sim/ml-sim/docs/_build/jupyter_execute/anomaly/regression_sp_9_3.png"
      },
      "needs_background": "light"
     },
     "output_type": "display_data"
    },
    {
     "data": {
      "image/png": "[encoded data removed]",
      "text/plain": [
       "<Figure size 265.25x216 with 1 Axes>"
      ]
     },
     "metadata": {
      "filenames": {
       "image/png": "/home/runner/work/ml-sim/ml-sim/docs/_build/jupyter_execute/anomaly/regression_sp_9_4.png"
      },
      "needs_background": "light"
     },
     "output_type": "display_data"
    }
   ],
   "source": [
    "many_sp_df = mlsim.anomaly.geometric_indep_views_gmm_sp(2,r_clusters,cluster_size,cluster_spread,p_sp_clusters,\n",
    "                domain_range,k,N,p_clusters)\n",
    "\n",
    "sp_plot(many_sp_df,'x1','x2','A')\n",
    "sp_plot(many_sp_df,'x3','x4','B')\n",
    "many_sp_df.head()"
   ]
  },
  {
   "cell_type": "markdown",
   "id": "c5b51207",
   "metadata": {},
   "source": [
    "The views do not have to have the same parameters though. We can make each parameter a list of values with the length set to the number of views."
   ]
  },
  {
   "cell_type": "code",
   "execution_count": 6,
   "id": "70a302f4",
   "metadata": {},
   "outputs": [
    {
     "name": "stderr",
     "output_type": "stream",
     "text": [
      "Pass the following variables as keyword args: x, y. From version 0.12, the only valid positional argument will be `data`, and passing other arguments without an explicit keyword will result in an error or misinterpretation.\n"
     ]
    },
    {
     "name": "stderr",
     "output_type": "stream",
     "text": [
      "Pass the following variables as keyword args: x, y. From version 0.12, the only valid positional argument will be `data`, and passing other arguments without an explicit keyword will result in an error or misinterpretation.\n",
      "Pass the following variables as keyword args: x, y. From version 0.12, the only valid positional argument will be `data`, and passing other arguments without an explicit keyword will result in an error or misinterpretation.\n",
      "Pass the following variables as keyword args: x, y. From version 0.12, the only valid positional argument will be `data`, and passing other arguments without an explicit keyword will result in an error or misinterpretation.\n"
     ]
    },
    {
     "data": {
      "text/html": [
       "<div>\n",
       "<style scoped>\n",
       "    .dataframe tbody tr th:only-of-type {\n",
       "        vertical-align: middle;\n",
       "    }\n",
       "\n",
       "    .dataframe tbody tr th {\n",
       "        vertical-align: top;\n",
       "    }\n",
       "\n",
       "    .dataframe thead th {\n",
       "        text-align: right;\n",
       "    }\n",
       "</style>\n",
       "<table border=\"1\" class=\"dataframe\">\n",
       "  <thead>\n",
       "    <tr style=\"text-align: right;\">\n",
       "      <th></th>\n",
       "      <th>x1</th>\n",
       "      <th>x2</th>\n",
       "      <th>x3</th>\n",
       "      <th>x4</th>\n",
       "      <th>A</th>\n",
       "      <th>B</th>\n",
       "    </tr>\n",
       "  </thead>\n",
       "  <tbody>\n",
       "    <tr>\n",
       "      <th>0</th>\n",
       "      <td>15.051139</td>\n",
       "      <td>14.788095</td>\n",
       "      <td>10.661439</td>\n",
       "      <td>13.365457</td>\n",
       "      <td>A4</td>\n",
       "      <td>B4</td>\n",
       "    </tr>\n",
       "    <tr>\n",
       "      <th>1</th>\n",
       "      <td>11.675012</td>\n",
       "      <td>9.037925</td>\n",
       "      <td>11.461983</td>\n",
       "      <td>7.826605</td>\n",
       "      <td>A0</td>\n",
       "      <td>B0</td>\n",
       "    </tr>\n",
       "    <tr>\n",
       "      <th>2</th>\n",
       "      <td>15.491469</td>\n",
       "      <td>12.886978</td>\n",
       "      <td>11.568019</td>\n",
       "      <td>7.143692</td>\n",
       "      <td>A1</td>\n",
       "      <td>B0</td>\n",
       "    </tr>\n",
       "    <tr>\n",
       "      <th>3</th>\n",
       "      <td>6.314472</td>\n",
       "      <td>4.013621</td>\n",
       "      <td>11.028667</td>\n",
       "      <td>7.741792</td>\n",
       "      <td>A3</td>\n",
       "      <td>B0</td>\n",
       "    </tr>\n",
       "    <tr>\n",
       "      <th>4</th>\n",
       "      <td>8.098202</td>\n",
       "      <td>4.603442</td>\n",
       "      <td>11.766120</td>\n",
       "      <td>7.422479</td>\n",
       "      <td>A3</td>\n",
       "      <td>B0</td>\n",
       "    </tr>\n",
       "  </tbody>\n",
       "</table>\n",
       "</div>"
      ],
      "text/plain": [
       "          x1         x2         x3         x4   A   B\n",
       "0  15.051139  14.788095  10.661439  13.365457  A4  B4\n",
       "1  11.675012   9.037925  11.461983   7.826605  A0  B0\n",
       "2  15.491469  12.886978  11.568019   7.143692  A1  B0\n",
       "3   6.314472   4.013621  11.028667   7.741792  A3  B0\n",
       "4   8.098202   4.603442  11.766120   7.422479  A3  B0"
      ]
     },
     "execution_count": 6,
     "metadata": {},
     "output_type": "execute_result"
    },
    {
     "data": {
      "image/png": "[encoded data removed]",
      "text/plain": [
       "<Figure size 265.25x216 with 1 Axes>"
      ]
     },
     "metadata": {
      "filenames": {
       "image/png": "/home/runner/work/ml-sim/ml-sim/docs/_build/jupyter_execute/anomaly/regression_sp_11_3.png"
      },
      "needs_background": "light"
     },
     "output_type": "display_data"
    },
    {
     "data": {
      "image/png": "[encoded data removed]",
      "text/plain": [
       "<Figure size 265.25x216 with 1 Axes>"
      ]
     },
     "metadata": {
      "filenames": {
       "image/png": "/home/runner/work/ml-sim/ml-sim/docs/_build/jupyter_execute/anomaly/regression_sp_11_4.png"
      },
      "needs_background": "light"
     },
     "output_type": "display_data"
    }
   ],
   "source": [
    "# setup\n",
    "r_clusters = [.8, -.2]  # correlation coefficient of clusters\n",
    "cluster_spread = [.8, .2] # pearson correlation of means\n",
    "p_sp_clusters = [.6, 1] # portion of clusters with SP \n",
    "k = [5,3] # number of clusters\n",
    "cluster_size = [4,4]\n",
    "domain_range = [0, 20, 0, 20]\n",
    "N = 200 # number of points\n",
    "p_clusters = [[.5, .2, .1, .1, .1],[1.0/3]*3]\n",
    "\n",
    "\n",
    "many_sp_df_diff = mlsim.anomaly.geometric_indep_views_gmm_sp(2,r_clusters,cluster_size,cluster_spread,p_sp_clusters,\n",
    "                domain_range,k,N,p_clusters)\n",
    "\n",
    "sp_plot(many_sp_df_diff,'x1','x2','A')\n",
    "sp_plot(many_sp_df_diff,'x3','x4','B')\n",
    "many_sp_df.head()"
   ]
  },
  {
   "cell_type": "code",
   "execution_count": null,
   "id": "c7edcc12",
   "metadata": {},
   "outputs": [],
   "source": []
  }
 ],
 "metadata": {
  "jupytext": {
   "text_representation": {
    "extension": ".md",
    "format_name": "myst",
    "format_version": 0.13,
    "jupytext_version": "1.10.3"
   }
  },
  "kernelspec": {
   "display_name": "Python 3",
   "language": "python",
   "name": "python3"
  },
  "language_info": {
   "codemirror_mode": {
    "name": "ipython",
    "version": 3
   },
   "file_extension": ".py",
   "mimetype": "text/x-python",
   "name": "python",
   "nbconvert_exporter": "python",
   "pygments_lexer": "ipython3",
   "version": "3.8.12"
  },
  "source_map": [
   12,
   16,
   28,
   32,
   42,
   46,
   51,
   55,
   69,
   75,
   82,
   86,
   106
  ]
 },
 "nbformat": 4,
 "nbformat_minor": 5
}