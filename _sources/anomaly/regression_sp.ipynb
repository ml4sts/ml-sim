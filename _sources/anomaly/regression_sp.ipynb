{
 "cells": [
  {
   "cell_type": "markdown",
   "id": "cba51c74",
   "metadata": {},
   "source": [
    "# Regression -Based Simpson's Paradox"
   ]
  },
  {
   "cell_type": "code",
   "execution_count": 1,
   "id": "44197093",
   "metadata": {},
   "outputs": [],
   "source": [
    "#imports\n",
    "import numpy as np\n",
    "import pandas as pd\n",
    "import seaborn as sns\n",
    "import scipy.stats as stats\n",
    "import matplotlib.pyplot as plt\n",
    "\n",
    "\n",
    "import mlsim \n",
    "from mlsim.anomaly import sp_plot"
   ]
  },
  {
   "cell_type": "markdown",
   "id": "16dbc88c",
   "metadata": {},
   "source": [
    "The basic version of SP in the regression form is the clustering model based SP- we use a gaussian mixture model and control parameters of the shape"
   ]
  },
  {
   "cell_type": "code",
   "execution_count": 2,
   "id": "d8e1ea9a",
   "metadata": {},
   "outputs": [],
   "source": [
    "# setup\n",
    "r_clusters = -.6  # correlation coefficient of clusters\n",
    "cluster_spread = .8 # pearson correlation of means\n",
    "p_sp_clusters = .5 # portion of clusters with SP \n",
    "k = 5 # number of clusters\n",
    "cluster_size = [2,3]\n",
    "domain_range = [0, 20, 0, 20]\n",
    "N = 200 # number of points\n",
    "p_clusters = [1.0/k]*k"
   ]
  },
  {
   "cell_type": "markdown",
   "id": "0833ee3c",
   "metadata": {},
   "source": [
    "We choose the portion of the clusters to have SP and then can draw samples"
   ]
  },
  {
   "cell_type": "code",
   "execution_count": 3,
   "id": "811b0277",
   "metadata": {},
   "outputs": [
    {
     "ename": "TypeError",
     "evalue": "lmplot() got multiple values for argument 'data'",
     "output_type": "error",
     "traceback": [
      "\u001b[0;31m---------------------------------------------------------------------------\u001b[0m",
      "\u001b[0;31mTypeError\u001b[0m                                 Traceback (most recent call last)",
      "Cell \u001b[0;32mIn [3], line 4\u001b[0m\n\u001b[1;32m      1\u001b[0m p_sp_clusters \u001b[38;5;241m=\u001b[39m \u001b[38;5;241m.9\u001b[39m\n\u001b[1;32m      2\u001b[0m sp_df2 \u001b[38;5;241m=\u001b[39m mlsim\u001b[38;5;241m.\u001b[39manomaly\u001b[38;5;241m.\u001b[39mgeometric_2d_gmm_sp(r_clusters,cluster_size,cluster_spread,\n\u001b[1;32m      3\u001b[0m                                     p_sp_clusters, domain_range,k,N,p_clusters)\n\u001b[0;32m----> 4\u001b[0m \u001b[43msp_plot\u001b[49m\u001b[43m(\u001b[49m\u001b[43msp_df2\u001b[49m\u001b[43m,\u001b[49m\u001b[38;5;124;43m'\u001b[39;49m\u001b[38;5;124;43mx1\u001b[39;49m\u001b[38;5;124;43m'\u001b[39;49m\u001b[43m,\u001b[49m\u001b[38;5;124;43m'\u001b[39;49m\u001b[38;5;124;43mx2\u001b[39;49m\u001b[38;5;124;43m'\u001b[39;49m\u001b[43m,\u001b[49m\u001b[38;5;124;43m'\u001b[39;49m\u001b[38;5;124;43mcolor\u001b[39;49m\u001b[38;5;124;43m'\u001b[39;49m\u001b[43m)\u001b[49m\n",
      "File \u001b[0;32m~/work/ml-sim/ml-sim/mlsim/anomaly/plot_utils.py:27\u001b[0m, in \u001b[0;36msp_plot\u001b[0;34m(df, x_col, y_col, color_col, ci, domain_range, ax, aggplot, x_jitter, height, legend)\u001b[0m\n\u001b[1;32m     23\u001b[0m n_markers \u001b[38;5;241m=\u001b[39m df[color_col]\u001b[38;5;241m.\u001b[39munique()\u001b[38;5;241m.\u001b[39mshape[\u001b[38;5;241m0\u001b[39m] \u001b[38;5;66;03m# number unique\u001b[39;00m\n\u001b[1;32m     24\u001b[0m cur_markers \u001b[38;5;241m=\u001b[39m all_markers[:n_markers]\n\u001b[0;32m---> 27\u001b[0m \u001b[43msns\u001b[49m\u001b[38;5;241;43m.\u001b[39;49m\u001b[43mlmplot\u001b[49m\u001b[43m(\u001b[49m\u001b[43mx_col\u001b[49m\u001b[43m,\u001b[49m\u001b[43m \u001b[49m\u001b[43my_col\u001b[49m\u001b[43m,\u001b[49m\u001b[43m \u001b[49m\u001b[43mdata\u001b[49m\u001b[38;5;241;43m=\u001b[39;49m\u001b[43mdf\u001b[49m\u001b[43m,\u001b[49m\u001b[43m \u001b[49m\u001b[43mhue\u001b[49m\u001b[38;5;241;43m=\u001b[39;49m\u001b[43mcolor_col\u001b[49m\u001b[43m,\u001b[49m\u001b[43m \u001b[49m\u001b[43mci\u001b[49m\u001b[38;5;241;43m=\u001b[39;49m\u001b[43mci\u001b[49m\u001b[43m,\u001b[49m\n\u001b[1;32m     28\u001b[0m \u001b[43m               \u001b[49m\u001b[43mmarkers\u001b[49m\u001b[43m \u001b[49m\u001b[38;5;241;43m=\u001b[39;49m\u001b[43mcur_markers\u001b[49m\u001b[43m,\u001b[49m\u001b[43m \u001b[49m\u001b[43mpalette\u001b[49m\u001b[38;5;241;43m=\u001b[39;49m\u001b[38;5;124;43m\"\u001b[39;49m\u001b[38;5;124;43mSet1\u001b[39;49m\u001b[38;5;124;43m\"\u001b[39;49m\u001b[43m,\u001b[49m\u001b[43mx_jitter\u001b[49m\u001b[38;5;241;43m=\u001b[39;49m\u001b[43mx_jitter\u001b[49m\u001b[43m,\u001b[49m\n\u001b[1;32m     29\u001b[0m \u001b[43m               \u001b[49m\u001b[43mheight\u001b[49m\u001b[38;5;241;43m=\u001b[39;49m\u001b[43mheight\u001b[49m\u001b[43m,\u001b[49m\u001b[43mlegend\u001b[49m\u001b[38;5;241;43m=\u001b[39;49m\u001b[43mlegend\u001b[49m\u001b[43m)\u001b[49m\n\u001b[1;32m     30\u001b[0m \u001b[38;5;28;01mif\u001b[39;00m aggplot:\n\u001b[1;32m     31\u001b[0m     \u001b[38;5;66;03m# adda whole data regression line, but don't cover the scatter data\u001b[39;00m\n\u001b[1;32m     32\u001b[0m     sns\u001b[38;5;241m.\u001b[39mregplot(x_col, y_col, data\u001b[38;5;241m=\u001b[39mdf, color\u001b[38;5;241m=\u001b[39m\u001b[38;5;124m'\u001b[39m\u001b[38;5;124mblack\u001b[39m\u001b[38;5;124m'\u001b[39m, scatter\u001b[38;5;241m=\u001b[39m\u001b[38;5;28;01mFalse\u001b[39;00m, ci\u001b[38;5;241m=\u001b[39mci,)\n",
      "\u001b[0;31mTypeError\u001b[0m: lmplot() got multiple values for argument 'data'"
     ]
    }
   ],
   "source": [
    "p_sp_clusters = .9\n",
    "sp_df2 = mlsim.anomaly.geometric_2d_gmm_sp(r_clusters,cluster_size,cluster_spread,\n",
    "                                    p_sp_clusters, domain_range,k,N,p_clusters)\n",
    "sp_plot(sp_df2,'x1','x2','color')"
   ]
  },
  {
   "cell_type": "markdown",
   "id": "2049e445",
   "metadata": {},
   "source": [
    "We can change the parameters and see variation"
   ]
  },
  {
   "cell_type": "code",
   "execution_count": null,
   "id": "ac492bc0",
   "metadata": {},
   "outputs": [],
   "source": [
    "# setup\n",
    "r_clusters = -.4  # correlation coefficient of clusters\n",
    "cluster_spread = .8 # pearson correlation of means\n",
    "p_sp_clusters = .6 # portion of clusters with SP \n",
    "k = 5 # number of clusters\n",
    "cluster_size = [4,4]\n",
    "domain_range = [0, 20, 0, 20]\n",
    "N = 200 # number of points\n",
    "p_clusters = [.5, .2, .1, .1, .1]\n",
    "\n",
    "sp_df3 = mlsim.anomaly.geometric_2d_gmm_sp(r_clusters,cluster_size,cluster_spread,\n",
    "                                    p_sp_clusters, domain_range,k,N,p_clusters)\n",
    "sp_plot(sp_df3,'x1','x2','color')"
   ]
  },
  {
   "cell_type": "markdown",
   "id": "e402f25d",
   "metadata": {},
   "source": [
    "## Multiple Views\n",
    "\n",
    "The first extension is to add multiple independent views, we have a wrapper function for that"
   ]
  },
  {
   "cell_type": "code",
   "execution_count": null,
   "id": "b4e194ce",
   "metadata": {},
   "outputs": [],
   "source": [
    "many_sp_df = mlsim.anomaly.geometric_indep_views_gmm_sp(2,r_clusters,cluster_size,cluster_spread,p_sp_clusters,\n",
    "                domain_range,k,N,p_clusters)\n",
    "\n",
    "sp_plot(many_sp_df,'x1','x2','A')\n",
    "sp_plot(many_sp_df,'x3','x4','B')\n",
    "many_sp_df.head()"
   ]
  },
  {
   "cell_type": "markdown",
   "id": "e8f7e69c",
   "metadata": {},
   "source": [
    "The views do not have to have the same parameters though. We can make each parameter a list of values with the length set to the number of views."
   ]
  },
  {
   "cell_type": "code",
   "execution_count": null,
   "id": "63d5c6d2",
   "metadata": {},
   "outputs": [],
   "source": [
    "# setup\n",
    "r_clusters = [.8, -.2]  # correlation coefficient of clusters\n",
    "cluster_spread = [.8, .2] # pearson correlation of means\n",
    "p_sp_clusters = [.6, 1] # portion of clusters with SP \n",
    "k = [5,3] # number of clusters\n",
    "cluster_size = [4,4]\n",
    "domain_range = [0, 20, 0, 20]\n",
    "N = 200 # number of points\n",
    "p_clusters = [[.5, .2, .1, .1, .1],[1.0/3]*3]\n",
    "\n",
    "\n",
    "many_sp_df_diff = mlsim.anomaly.geometric_indep_views_gmm_sp(2,r_clusters,cluster_size,cluster_spread,p_sp_clusters,\n",
    "                domain_range,k,N,p_clusters)\n",
    "\n",
    "sp_plot(many_sp_df_diff,'x1','x2','A')\n",
    "sp_plot(many_sp_df_diff,'x3','x4','B')\n",
    "many_sp_df.head()"
   ]
  },
  {
   "cell_type": "code",
   "execution_count": null,
   "id": "5258c141",
   "metadata": {},
   "outputs": [],
   "source": []
  }
 ],
 "metadata": {
  "jupytext": {
   "text_representation": {
    "extension": ".md",
    "format_name": "myst",
    "format_version": 0.13,
    "jupytext_version": "1.10.3"
   }
  },
  "kernelspec": {
   "display_name": "Python 3",
   "language": "python",
   "name": "python3"
  },
  "language_info": {
   "codemirror_mode": {
    "name": "ipython",
    "version": 3
   },
   "file_extension": ".py",
   "mimetype": "text/x-python",
   "name": "python",
   "nbconvert_exporter": "python",
   "pygments_lexer": "ipython3",
   "version": "3.8.14"
  },
  "source_map": [
   12,
   16,
   28,
   32,
   42,
   46,
   51,
   55,
   69,
   75,
   82,
   86,
   106
  ]
 },
 "nbformat": 4,
 "nbformat_minor": 5
}