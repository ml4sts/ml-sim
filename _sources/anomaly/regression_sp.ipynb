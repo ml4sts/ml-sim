{
 "cells": [
  {
   "cell_type": "markdown",
   "id": "ee30e1c3",
   "metadata": {},
   "source": [
    "# Regression -Based Simpson's Paradox"
   ]
  },
  {
   "cell_type": "code",
   "execution_count": 1,
   "id": "71beaad5",
   "metadata": {},
   "outputs": [
    {
     "ename": "ModuleNotFoundError",
     "evalue": "No module named 'mlsim.base'",
     "output_type": "error",
     "traceback": [
      "\u001b[0;31m---------------------------------------------------------------------------\u001b[0m",
      "\u001b[0;31mModuleNotFoundError\u001b[0m                       Traceback (most recent call last)",
      "Input \u001b[0;32mIn [1]\u001b[0m, in \u001b[0;36m<cell line: 9>\u001b[0;34m()\u001b[0m\n\u001b[1;32m      5\u001b[0m \u001b[38;5;28;01mimport\u001b[39;00m \u001b[38;5;21;01mscipy\u001b[39;00m\u001b[38;5;21;01m.\u001b[39;00m\u001b[38;5;21;01mstats\u001b[39;00m \u001b[38;5;28;01mas\u001b[39;00m \u001b[38;5;21;01mstats\u001b[39;00m\n\u001b[1;32m      6\u001b[0m \u001b[38;5;28;01mimport\u001b[39;00m \u001b[38;5;21;01mmatplotlib\u001b[39;00m\u001b[38;5;21;01m.\u001b[39;00m\u001b[38;5;21;01mpyplot\u001b[39;00m \u001b[38;5;28;01mas\u001b[39;00m \u001b[38;5;21;01mplt\u001b[39;00m\n\u001b[0;32m----> 9\u001b[0m \u001b[38;5;28;01mimport\u001b[39;00m \u001b[38;5;21;01mmlsim\u001b[39;00m \n\u001b[1;32m     10\u001b[0m \u001b[38;5;28;01mfrom\u001b[39;00m \u001b[38;5;21;01mmlsim\u001b[39;00m\u001b[38;5;21;01m.\u001b[39;00m\u001b[38;5;21;01manomaly\u001b[39;00m \u001b[38;5;28;01mimport\u001b[39;00m sp_plot\n",
      "File \u001b[0;32m/opt/hostedtoolcache/Python/3.8.12/x64/lib/python3.8/site-packages/mlsim/__init__.py:2\u001b[0m, in \u001b[0;36m<module>\u001b[0;34m\u001b[0m\n\u001b[0;32m----> 2\u001b[0m \u001b[38;5;28;01mfrom\u001b[39;00m \u001b[38;5;21;01m.\u001b[39;00m \u001b[38;5;28;01mimport\u001b[39;00m anomaly\n\u001b[1;32m      4\u001b[0m \u001b[38;5;28;01mfrom\u001b[39;00m \u001b[38;5;21;01m.\u001b[39;00m \u001b[38;5;28;01mimport\u001b[39;00m base\n\u001b[1;32m      6\u001b[0m \u001b[38;5;28;01mfrom\u001b[39;00m \u001b[38;5;21;01m.\u001b[39;00m \u001b[38;5;28;01mimport\u001b[39;00m bias\n",
      "File \u001b[0;32m/opt/hostedtoolcache/Python/3.8.12/x64/lib/python3.8/site-packages/mlsim/anomaly/__init__.py:1\u001b[0m, in \u001b[0;36m<module>\u001b[0;34m\u001b[0m\n\u001b[0;32m----> 1\u001b[0m \u001b[38;5;28;01mfrom\u001b[39;00m \u001b[38;5;21;01m.\u001b[39;00m\u001b[38;5;21;01msimpsons_paradox\u001b[39;00m \u001b[38;5;28;01mimport\u001b[39;00m geometric_2d_gmm_sp\n\u001b[1;32m      2\u001b[0m \u001b[38;5;28;01mfrom\u001b[39;00m \u001b[38;5;21;01m.\u001b[39;00m\u001b[38;5;21;01msimpsons_paradox\u001b[39;00m \u001b[38;5;28;01mimport\u001b[39;00m geometric_indep_views_gmm_sp\n\u001b[1;32m      3\u001b[0m \u001b[38;5;28;01mfrom\u001b[39;00m \u001b[38;5;21;01m.\u001b[39;00m\u001b[38;5;21;01mplot_utils\u001b[39;00m \u001b[38;5;28;01mimport\u001b[39;00m sp_plot, plot_clustermat\n",
      "File \u001b[0;32m/opt/hostedtoolcache/Python/3.8.12/x64/lib/python3.8/site-packages/mlsim/anomaly/simpsons_paradox.py:5\u001b[0m, in \u001b[0;36m<module>\u001b[0;34m\u001b[0m\n\u001b[1;32m      2\u001b[0m \u001b[38;5;28;01mimport\u001b[39;00m \u001b[38;5;21;01mpandas\u001b[39;00m \u001b[38;5;28;01mas\u001b[39;00m \u001b[38;5;21;01mpd\u001b[39;00m\n\u001b[1;32m      3\u001b[0m \u001b[38;5;28;01mimport\u001b[39;00m \u001b[38;5;21;01mstring\u001b[39;00m\n\u001b[0;32m----> 5\u001b[0m \u001b[38;5;28;01mfrom\u001b[39;00m \u001b[38;5;21;01m.\u001b[39;00m\u001b[38;5;21;01m.\u001b[39;00m\u001b[38;5;21;01mbase\u001b[39;00m\u001b[38;5;21;01m.\u001b[39;00m\u001b[38;5;21;01mbasic_gens\u001b[39;00m \u001b[38;5;28;01mimport\u001b[39;00m means_with_spread\n\u001b[1;32m      7\u001b[0m \u001b[38;5;28;01mdef\u001b[39;00m \u001b[38;5;21mgeometric_2d_gmm_sp\u001b[39m(r_clusters,cluster_size,cluster_spread,p_sp_clusters,\n\u001b[1;32m      8\u001b[0m                 domain_range,k,N,p_clusters\u001b[38;5;241m=\u001b[39m\u001b[38;5;28;01mNone\u001b[39;00m):\n\u001b[1;32m      9\u001b[0m     \u001b[38;5;124;03m\"\"\"\u001b[39;00m\n\u001b[1;32m     10\u001b[0m \u001b[38;5;124;03m    Sample from a gaussian mixture model with Simpson's Paradox and spread means\u001b[39;00m\n\u001b[1;32m     11\u001b[0m \u001b[38;5;124;03m    return data in a data fram\u001b[39;00m\n\u001b[0;32m   (...)\u001b[0m\n\u001b[1;32m     29\u001b[0m \u001b[38;5;124;03m        number of points\u001b[39;00m\n\u001b[1;32m     30\u001b[0m \u001b[38;5;124;03m    \"\"\"\u001b[39;00m\n",
      "\u001b[0;31mModuleNotFoundError\u001b[0m: No module named 'mlsim.base'"
     ]
    }
   ],
   "source": [
    "#imports\n",
    "import numpy as np\n",
    "import pandas as pd\n",
    "import seaborn as sns\n",
    "import scipy.stats as stats\n",
    "import matplotlib.pyplot as plt\n",
    "\n",
    "\n",
    "import mlsim \n",
    "from mlsim.anomaly import sp_plot"
   ]
  },
  {
   "cell_type": "markdown",
   "id": "9c534903",
   "metadata": {},
   "source": [
    "The basic version of SP in the regression form is the clustering model based SP- we use a gaussian mixture model and control parameters of the shape"
   ]
  },
  {
   "cell_type": "code",
   "execution_count": null,
   "id": "6095f2a4",
   "metadata": {},
   "outputs": [],
   "source": [
    "# setup\n",
    "r_clusters = -.6  # correlation coefficient of clusters\n",
    "cluster_spread = .8 # pearson correlation of means\n",
    "p_sp_clusters = .5 # portion of clusters with SP \n",
    "k = 5 # number of clusters\n",
    "cluster_size = [2,3]\n",
    "domain_range = [0, 20, 0, 20]\n",
    "N = 200 # number of points\n",
    "p_clusters = [1.0/k]*k"
   ]
  },
  {
   "cell_type": "markdown",
   "id": "504de37d",
   "metadata": {},
   "source": [
    "We choose the portion of the clusters to have SP and then can draw samples"
   ]
  },
  {
   "cell_type": "code",
   "execution_count": null,
   "id": "b4bdb817",
   "metadata": {},
   "outputs": [],
   "source": [
    "p_sp_clusters = .9\n",
    "sp_df2 = mlsim.anomaly.geometric_2d_gmm_sp(r_clusters,cluster_size,cluster_spread,\n",
    "                                    p_sp_clusters, domain_range,k,N,p_clusters)\n",
    "sp_plot(sp_df2,'x1','x2','color')"
   ]
  },
  {
   "cell_type": "markdown",
   "id": "a5c293b2",
   "metadata": {},
   "source": [
    "We can change the parameters and see variation"
   ]
  },
  {
   "cell_type": "code",
   "execution_count": null,
   "id": "b0c104c2",
   "metadata": {},
   "outputs": [],
   "source": [
    "# setup\n",
    "r_clusters = -.4  # correlation coefficient of clusters\n",
    "cluster_spread = .8 # pearson correlation of means\n",
    "p_sp_clusters = .6 # portion of clusters with SP \n",
    "k = 5 # number of clusters\n",
    "cluster_size = [4,4]\n",
    "domain_range = [0, 20, 0, 20]\n",
    "N = 200 # number of points\n",
    "p_clusters = [.5, .2, .1, .1, .1]\n",
    "\n",
    "sp_df3 = mlsim.anomaly.geometric_2d_gmm_sp(r_clusters,cluster_size,cluster_spread,\n",
    "                                    p_sp_clusters, domain_range,k,N,p_clusters)\n",
    "sp_plot(sp_df3,'x1','x2','color')"
   ]
  },
  {
   "cell_type": "markdown",
   "id": "0c4900f4",
   "metadata": {},
   "source": [
    "## Multiple Views\n",
    "\n",
    "The first extension is to add multiple independent views, we have a wrapper function for that"
   ]
  },
  {
   "cell_type": "code",
   "execution_count": null,
   "id": "d4b704c8",
   "metadata": {},
   "outputs": [],
   "source": [
    "many_sp_df = mlsim.anomaly.geometric_indep_views_gmm_sp(2,r_clusters,cluster_size,cluster_spread,p_sp_clusters,\n",
    "                domain_range,k,N,p_clusters)\n",
    "\n",
    "sp_plot(many_sp_df,'x1','x2','A')\n",
    "sp_plot(many_sp_df,'x3','x4','B')\n",
    "many_sp_df.head()"
   ]
  },
  {
   "cell_type": "markdown",
   "id": "6150db26",
   "metadata": {},
   "source": [
    "The views do not have to have the same parameters though. We can make each parameter a list of values with the length set to the number of views."
   ]
  },
  {
   "cell_type": "code",
   "execution_count": null,
   "id": "d18772cb",
   "metadata": {},
   "outputs": [],
   "source": [
    "# setup\n",
    "r_clusters = [.8, -.2]  # correlation coefficient of clusters\n",
    "cluster_spread = [.8, .2] # pearson correlation of means\n",
    "p_sp_clusters = [.6, 1] # portion of clusters with SP \n",
    "k = [5,3] # number of clusters\n",
    "cluster_size = [4,4]\n",
    "domain_range = [0, 20, 0, 20]\n",
    "N = 200 # number of points\n",
    "p_clusters = [[.5, .2, .1, .1, .1],[1.0/3]*3]\n",
    "\n",
    "\n",
    "many_sp_df_diff = mlsim.anomaly.geometric_indep_views_gmm_sp(2,r_clusters,cluster_size,cluster_spread,p_sp_clusters,\n",
    "                domain_range,k,N,p_clusters)\n",
    "\n",
    "sp_plot(many_sp_df_diff,'x1','x2','A')\n",
    "sp_plot(many_sp_df_diff,'x3','x4','B')\n",
    "many_sp_df.head()"
   ]
  },
  {
   "cell_type": "code",
   "execution_count": null,
   "id": "61c8c3a4",
   "metadata": {},
   "outputs": [],
   "source": []
  }
 ],
 "metadata": {
  "jupytext": {
   "text_representation": {
    "extension": ".md",
    "format_name": "myst",
    "format_version": 0.13,
    "jupytext_version": "1.10.3"
   }
  },
  "kernelspec": {
   "display_name": "Python 3",
   "language": "python",
   "name": "python3"
  },
  "language_info": {
   "codemirror_mode": {
    "name": "ipython",
    "version": 3
   },
   "file_extension": ".py",
   "mimetype": "text/x-python",
   "name": "python",
   "nbconvert_exporter": "python",
   "pygments_lexer": "ipython3",
   "version": "3.8.12"
  },
  "source_map": [
   12,
   16,
   28,
   32,
   42,
   46,
   51,
   55,
   69,
   75,
   82,
   86,
   106
  ]
 },
 "nbformat": 4,
 "nbformat_minor": 5
}